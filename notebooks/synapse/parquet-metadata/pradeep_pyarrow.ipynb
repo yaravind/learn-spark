{
  "nbformat": 4,
  "nbformat_minor": 2,
  "cells": [
    {
      "cell_type": "code",
      "execution_count": 1,
      "outputs": [],
      "metadata": {},
      "source": [
        "import pyarrow.dataset\n",
        "import pyarrow.fs\n",
        "from azure.identity import ManagedIdentityCredential\n",
        "from azure.core.credentials import AccessToken"
      ]
    },
    {
      "cell_type": "code",
      "execution_count": null,
      "outputs": [],
      "metadata": {
        "jupyter": {
          "source_hidden": false,
          "outputs_hidden": false
        },
        "nteract": {
          "transient": {
            "deleting": false
          }
        }
      },
      "source": [
        "%pip install pyarrowfs_adlgen2"
      ]
    },
    {
      "cell_type": "code",
      "execution_count": null,
      "outputs": [],
      "metadata": {
        "jupyter": {
          "source_hidden": false,
          "outputs_hidden": false
        },
        "nteract": {
          "transient": {
            "deleting": false
          }
        }
      },
      "source": [
        "import pyarrowfs_adlgen2"
      ]
    },
    {
      "cell_type": "code",
      "execution_count": null,
      "outputs": [],
      "metadata": {
        "jupyter": {
          "source_hidden": false,
          "outputs_hidden": false
        },
        "nteract": {
          "transient": {
            "deleting": false
          }
        }
      },
      "source": [
        "# Add pyarrow dependency at session or spark pool level but do not install after creating a session.\n",
        "# Check pyarrow version 12.0.0\n",
        "import pkg_resources\n",
        "for d in pkg_resources.working_set:\n",
        "     print(d)"
      ]
    },
    {
      "cell_type": "code",
      "execution_count": null,
      "outputs": [],
      "metadata": {
        "jupyter": {
          "source_hidden": false,
          "outputs_hidden": false
        },
        "nteract": {
          "transient": {
            "deleting": false
          }
        }
      },
      "source": [
        "from datetime import datetime\n",
        "\n",
        "dt = datetime.today()  \n",
        "seconds = dt.timestamp()\n",
        "\n",
        "#azure-identity does not work for the jobs that run in synapse workspace.\n",
        "# For more information, you can check https://learn.microsoft.com/en-us/azure/synapse-analytics/synapse-service-identity?context=%2Fazure%2Fsynapse-analytics%2Fcontext%2Fcontext.\n",
        "\n",
        "# Alternative is to create a token from mssparkutils\n",
        "# Assign the spoof_token to ManagedIdentityCredential class object\n",
        "class spoof_token:\n",
        "    def get_token(*args, **kwargs):\n",
        "        return AccessToken(\n",
        "            token=mssparkutils.credentials.getToken(audience=\"storage\"),\n",
        "            # some random time in future... synapse doesn't provide way to get a expires_on value for a token\n",
        "            expires_on=seconds+(60*100) \n",
        "        )\n",
        "\n",
        "credential = ManagedIdentityCredential()\n",
        "credential._credential = spoof_token()"
      ]
    },
    {
      "cell_type": "code",
      "execution_count": null,
      "outputs": [],
      "metadata": {
        "jupyter": {
          "source_hidden": false,
          "outputs_hidden": false
        },
        "nteract": {
          "transient": {
            "deleting": false
          }
        }
      },
      "source": [
        "# Replace these variables with your actual account_name and account_key\n",
        "ACCOUNT_NAME = \"syncdldev01\"\n",
        "ACCOUNT_KEY = \"\"\n",
        "\n",
        "# Replace this with the container name and Parquet file path in ADLS Gen2\n",
        "CONTAINER_NAME = \"tlfs\"\n",
        "PARQUET_FILE_PATH = 'poc/parquet/nyc_yellow_taxi_trips/puYear=2001/puMonth=1/part-00493-127a558e-137b-4f6b-8c6e-904dc74a264e.c000.snappy.parquet'"
      ]
    },
    {
      "cell_type": "code",
      "execution_count": null,
      "outputs": [],
      "metadata": {
        "jupyter": {
          "source_hidden": false,
          "outputs_hidden": false
        },
        "nteract": {
          "transient": {
            "deleting": false
          }
        }
      },
      "source": [
        "#Use the credential from spoof_token class\n",
        "handler = pyarrowfs_adlgen2.FilesystemHandler.from_account_name(\n",
        "   ACCOUNT_NAME, CONTAINER_NAME, credential)\n",
        "   \n",
        "fs = pyarrow.fs.PyFileSystem(handler)\n",
        "\n",
        "import pyarrow as pa\n",
        "import pyarrow.parquet as pq\n",
        "\n",
        "metadata = pq.read_metadata(PARQUET_FILE_PATH,filesystem=fs)"
      ]
    },
    {
      "cell_type": "code",
      "execution_count": null,
      "outputs": [],
      "metadata": {
        "jupyter": {
          "source_hidden": false,
          "outputs_hidden": false
        },
        "nteract": {
          "transient": {
            "deleting": false
          }
        }
      },
      "source": [
        "print(metadata)\n",
        "rg = metadata.row_group(0)"
      ]
    }
  ],
  "metadata": {
    "save_output": true,
    "kernelspec": {
      "name": "synapse_pyspark",
      "display_name": "Synapse PySpark"
    },
    "language_info": {
      "name": "python"
    }
  }
}