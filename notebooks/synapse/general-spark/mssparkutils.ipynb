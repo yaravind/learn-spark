{
  "cells": [
    {
      "cell_type": "code",
      "source": [
        "%%configure -f\n",
        "{\n",
        "    // You can get a list of valid parameters to config the session from https://github.com/cloudera/livy#request-body.\n",
        "    \"driverMemory\": \"2g\", // Recommended values: [\"28g\", \"56g\", \"112g\", \"224g\", \"400g\", \"472g\"]\n",
        "    \"driverCores\": 2, // Recommended values: [4, 8, 16, 32, 64, 80]\n",
        "    \"executorMemory\": \"2g\",\n",
        "    \"executorCores\": 2,\n",
        "    \"numExecutors\": 1,\n",
        "    \"conf\":\n",
        "    {\n",
        "        // Example of standard spark property, to find more available properties please visit: https://spark.apache.org/docs/latest/configuration.html#application-properties.\n",
        "        \"spark.driver.maxResultSize\": \"10g\",\n",
        "        // Example of customized property, you can specify count of lines that Spark SQL returns by configuring \"livy.rsc.sql.num-rows\".\n",
        "        \"livy.rsc.sql.num-rows\": \"3000\"\n",
        "    }\n",
        "}"
      ],
      "outputs": [],
      "execution_count": null,
      "metadata": {}
    },
    {
      "cell_type": "markdown",
      "source": [
        "## mssparkutils.fs.ls"
      ],
      "metadata": {
        "nteract": {
          "transient": {
            "deleting": false
          }
        }
      }
    },
    {
      "cell_type": "code",
      "source": [
        "mssparkutils.fs.help()\n",
        "mssparkutils.fs.help(\"ls\")"
      ],
      "outputs": [],
      "execution_count": null,
      "metadata": {
        "jupyter": {
          "source_hidden": false,
          "outputs_hidden": false
        },
        "nteract": {
          "transient": {
            "deleting": false
          }
        }
      }
    },
    {
      "cell_type": "code",
      "source": [
        "val f: Array[com.microsoft.spark.notebook.msutils.MSFileInfo] = mssparkutils.fs.ls(\"abfss://metadata@storagemai01us2dev.dfs.core.windows.net/\")\n",
        "import spark.implicits._\n",
        "val list = sc.parallelize(f).toDF()\n",
        "display(list)"
      ],
      "outputs": [],
      "execution_count": null,
      "metadata": {
        "jupyter": {
          "source_hidden": false,
          "outputs_hidden": false
        },
        "nteract": {
          "transient": {
            "deleting": false
          }
        },
        "collapsed": false
      }
    },
    {
      "cell_type": "code",
      "source": [
        "mssparkutils.help()"
      ],
      "outputs": [],
      "execution_count": null,
      "metadata": {
        "jupyter": {
          "source_hidden": false,
          "outputs_hidden": false
        },
        "nteract": {
          "transient": {
            "deleting": false
          }
        }
      }
    },
    {
      "cell_type": "markdown",
      "source": [
        "## mssparkutils.notebook"
      ],
      "metadata": {
        "nteract": {
          "transient": {
            "deleting": false
          }
        }
      }
    },
    {
      "cell_type": "code",
      "source": [
        "mssparkutils.notebook.help()"
      ],
      "outputs": [],
      "execution_count": null,
      "metadata": {
        "jupyter": {
          "source_hidden": false,
          "outputs_hidden": false
        },
        "nteract": {
          "transient": {
            "deleting": false
          }
        }
      }
    },
    {
      "cell_type": "markdown",
      "source": [
        "## mssparkutils.credentials"
      ],
      "metadata": {
        "nteract": {
          "transient": {
            "deleting": false
          }
        }
      }
    },
    {
      "cell_type": "code",
      "source": [
        "mssparkutils.credentials.help()"
      ],
      "outputs": [],
      "execution_count": null,
      "metadata": {
        "jupyter": {
          "source_hidden": false,
          "outputs_hidden": false
        },
        "nteract": {
          "transient": {
            "deleting": false
          }
        }
      }
    },
    {
      "cell_type": "code",
      "source": [
        "{\n",
        "    val clientId = mssparkutils.credentials.getSecret(\"xxx\", \"clientId\")\n",
        "clientId.map(c=>c+\".\").foreach(print)\n",
        "println(\"\\n\")\n",
        "val clientSecret = mssparkutils.credentials.getSecret(\"xxx\", \"clientSecret\")\n",
        "clientSecret.map(c=>c+\".\").foreach(print)\n",
        "}"
      ],
      "outputs": [],
      "execution_count": null,
      "metadata": {
        "jupyter": {
          "source_hidden": false,
          "outputs_hidden": false
        },
        "nteract": {
          "transient": {
            "deleting": false
          }
        }
      }
    },
    {
      "cell_type": "code",
      "source": [
        "val primaryStorageAbsPath= \"abfss://tlfs@xxx.dfs.core.windows.net/poc/issue/testAbsFolder\"\n",
        "val primaryStorageRelPath= \"/poc/issue/testRelFolder\" //with / prefix\n",
        "val primaryStorageRelPath1= \"poc/issue/testRelFolder\" //without / prefix\n",
        "\n",
        "println(\"Absolute path result: \"+mssparkutils.fs.mkdirs(primaryStorageAbsPath))\n",
        "println(\"Relative path result: \"+mssparkutils.fs.mkdirs(primaryStorageRelPath))\n",
        "println(\"Relative path with '/' prefix result: \"+mssparkutils.fs.mkdirs(primaryStorageRelPath1))"
      ],
      "outputs": [],
      "execution_count": null,
      "metadata": {
        "jupyter": {
          "source_hidden": false,
          "outputs_hidden": false
        },
        "nteract": {
          "transient": {
            "deleting": false
          }
        }
      }
    },
    {
      "cell_type": "code",
      "source": [
        "if(ifFileExists(primaryStorageAbsPath)) println(s\"Full Path [$primaryStorageAbsPath] exists.\")\n",
        "if(ifFileExists(primaryStorageRelPath)) println(s\"Relative Path [$primaryStorageRelPath] exists.\")\n",
        "if(ifFileExists(primaryStorageRelPath)) println(s\"Relative Path with '/' prefix [$primaryStorageRelPath1] exists.\")"
      ],
      "outputs": [],
      "execution_count": null,
      "metadata": {
        "jupyter": {
          "source_hidden": false,
          "outputs_hidden": false
        },
        "nteract": {
          "transient": {
            "deleting": false
          }
        }
      }
    }
  ],
  "metadata": {
    "kernelspec": {
      "name": "synapse_spark",
      "display_name": "scala"
    },
    "language_info": {
      "name": "scala"
    },
    "save_output": true,
    "synapse_widget": {
      "version": "0.1",
      "state": {}
    }
  },
  "nbformat": 4,
  "nbformat_minor": 2
}