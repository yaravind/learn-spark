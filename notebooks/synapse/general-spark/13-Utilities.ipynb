{
  "nbformat": 4,
  "nbformat_minor": 2,
  "cells": [
    {
      "cell_type": "code",
      "execution_count": 1,
      "outputs": [],
      "metadata": {},
      "source": [
        "import com.tccc.dna.synapse.spark.SynapseSpark"
      ]
    },
    {
      "cell_type": "code",
      "execution_count": 2,
      "outputs": [],
      "metadata": {
        "jupyter": {
          "source_hidden": false,
          "outputs_hidden": false
        },
        "nteract": {
          "transient": {
            "deleting": false
          }
        }
      },
      "source": [
        "SynapseSpark.printVersions"
      ]
    },
    {
      "cell_type": "code",
      "execution_count": 3,
      "outputs": [],
      "metadata": {
        "jupyter": {
          "source_hidden": false,
          "outputs_hidden": false
        },
        "nteract": {
          "transient": {
            "deleting": false
          }
        }
      },
      "source": [
        "val totalExecutors = SynapseSpark.activeExecutorCount\n",
        "val executorList = SynapseSpark.activeExecutors"
      ]
    },
    {
      "cell_type": "code",
      "execution_count": 4,
      "outputs": [],
      "metadata": {
        "jupyter": {
          "source_hidden": false,
          "outputs_hidden": false
        },
        "nteract": {
          "transient": {
            "deleting": false
          }
        }
      },
      "source": [
        "val notebookName = SynapseSpark.getCurrentNotebookName\n",
        "val appName = SynapseSpark.getCurrentSparkAppName\n",
        "val appId = SynapseSpark.getCurrentSparkAppId\n",
        "val livyId = SynapseSpark.getLivySessionId\n",
        "val workspaceName = SynapseSpark.getCurrentSynapseWorkspaceName\n",
        "val sparkPoolName = SynapseSpark.getCurrentSynapseSparkPoolName\n",
        "val clusterId = SynapseSpark.getClusterId\n",
        "val principalName = SynapseSpark.getCurrentUserName\n",
        "val principalId = SynapseSpark.getUserUUID"
      ]
    },
    {
      "cell_type": "code",
      "execution_count": 5,
      "outputs": [],
      "metadata": {
        "jupyter": {
          "source_hidden": false,
          "outputs_hidden": false
        },
        "nteract": {
          "transient": {
            "deleting": false
          }
        }
      },
      "source": [
        "SynapseSpark.printAppInfo"
      ]
    }
  ],
  "metadata": {
    "save_output": true,
    "kernelspec": {
      "name": "synapse_spark",
      "display_name": "Synapse Spark"
    },
    "language_info": {
      "name": "scala"
    }
  }
}