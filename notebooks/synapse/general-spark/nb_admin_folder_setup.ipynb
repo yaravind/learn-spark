{
  "cells": [
    {
      "cell_type": "code",
      "source": [
        "%%configure -f\n",
        "{\n",
        "    // You can get a list of valid parameters to config the session from https://github.com/cloudera/livy#request-body.\n",
        "    \"driverMemory\": \"2g\", // Recommended values: [\"28g\", \"56g\", \"112g\", \"224g\", \"400g\", \"472g\"]\n",
        "    \"driverCores\": 2, // Recommended values: [4, 8, 16, 32, 64, 80]\n",
        "    \"executorMemory\": \"2g\",\n",
        "    \"executorCores\": 2,\n",
        "    \"numExecutors\": 1,\n",
        "    \"conf\":\n",
        "    {\n",
        "        // Example of standard spark property, to find more available properties please visit: https://spark.apache.org/docs/latest/configuration.html#application-properties.\n",
        "        \"spark.driver.maxResultSize\": \"10g\",\n",
        "        // Example of customized property, you can specify count of lines that Spark SQL returns by configuring \"livy.rsc.sql.num-rows\".\n",
        "        \"livy.rsc.sql.num-rows\": \"3000\"\n",
        "    }\n",
        "}"
      ],
      "outputs": [],
      "execution_count": 3,
      "metadata": {
        "jupyter": {
          "source_hidden": false,
          "outputs_hidden": false
        },
        "nteract": {
          "transient": {
            "deleting": false
          }
        }
      }
    },
    {
      "cell_type": "code",
      "source": [
        "val paramUserName = \"notebookUser\"\n",
        "val paramBasePath = \"/experiment/notebookBasePath\""
      ],
      "outputs": [],
      "execution_count": 2,
      "metadata": {
        "jupyter": {
          "source_hidden": false,
          "outputs_hidden": false
        },
        "nteract": {
          "transient": {
            "deleting": false
          }
        },
        "tags": []
      }
    },
    {
      "cell_type": "code",
      "source": [
        "import com.tccc.dna.synapse._\n",
        "import com.tccc.dna.synapse.spark._\n",
        "import com.tccc.dna.supplychain.cs.utils.AdminUtils"
      ],
      "outputs": [],
      "execution_count": 3,
      "metadata": {}
    },
    {
      "cell_type": "markdown",
      "source": [
        "## Print version and runtime info"
      ],
      "metadata": {
        "nteract": {
          "transient": {
            "deleting": false
          }
        }
      }
    },
    {
      "cell_type": "code",
      "source": [
        "SynapseSpark.printVersions\n",
        "println()\n",
        "println(\"Total provisioned executors: \" + SynapseSpark.activeExecutorCount)\n",
        "println()\n",
        "println(\"Total provisioned cores: \" + SynapseSpark.totalClusterExecutorCores)"
      ],
      "outputs": [],
      "execution_count": 4,
      "metadata": {
        "jupyter": {
          "source_hidden": false,
          "outputs_hidden": false
        },
        "nteract": {
          "transient": {
            "deleting": false
          }
        }
      }
    },
    {
      "cell_type": "markdown",
      "source": [
        "## Create root folders"
      ],
      "metadata": {
        "nteract": {
          "transient": {
            "deleting": false
          }
        }
      }
    },
    {
      "cell_type": "code",
      "source": [
        "//basePath will be converted to lowercase as a standard convention\n",
        "val rootSetupResults = AdminUtils.createRootFolders(basePath = paramBasePath)"
      ],
      "outputs": [],
      "execution_count": 5,
      "metadata": {
        "jupyter": {
          "source_hidden": false,
          "outputs_hidden": false
        },
        "nteract": {
          "transient": {
            "deleting": false
          }
        }
      }
    },
    {
      "cell_type": "code",
      "source": [
        "  def ifFileExists(filePath: String): Boolean = {\n",
        "    var exists = false\n",
        "    try {\n",
        "      exists = if(mssparkutils.fs.ls(filePath)==null) false else true\n",
        "    } catch {\n",
        "      case e: Exception => println(s\"Informational message only! [$filePath] does not exist so creating it.\")\n",
        "    }\n",
        "    exists\n",
        "  }\n",
        "\n",
        "ifFileExists(\"/experiment/notebookbasepath/data\")\n",
        "AzStorage.ifFileExists(\"/experiment/notebookbasepath/data\")\n",
        "\n",
        "ifFileExists(\"experiment\")\n",
        "AzStorage.ifFileExists(\"experiment\")\n",
        "\n",
        "val relativePath = \"/experiment/data/certified\"\n",
        "    val fullPath = \"abfss://default@xxx.dfs.core.windows.net/experiment/data/certified/\"\n",
        "\n",
        "    if(AzStorage.ifFileExists(relativePath)) println(s\"Relative Path [$relativePath] exists.\")\n",
        "    if(AzStorage.ifFileExists(fullPath)) println(s\"Full Path [$fullPath] exists.\")\n",
        "\n",
        "    if(ifFileExists(relativePath)) println(s\"Relative Path [$relativePath] exists.\")\n",
        "    if(ifFileExists(fullPath)) println(s\"Full Path [$fullPath] exists.\")"
      ],
      "outputs": [],
      "execution_count": 6,
      "metadata": {
        "jupyter": {
          "source_hidden": false,
          "outputs_hidden": false
        },
        "nteract": {
          "transient": {
            "deleting": false
          }
        }
      }
    },
    {
      "cell_type": "markdown",
      "source": [
        "## Create experimentation structure for user: Aravind"
      ],
      "metadata": {
        "nteract": {
          "transient": {
            "deleting": false
          }
        }
      }
    },
    {
      "cell_type": "code",
      "source": [
        "  import scala.collection.mutable\n",
        "  def createFolders(paths: List[String]): mutable.SortedMap[String, String] = {\n",
        "    val result = mutable.SortedMap[String, String]()\n",
        "    paths.foreach(path => {\n",
        "      if (AzStorage.ifFileExists(path)) {\n",
        "        result += (path -> \"Folder already exists. No need to create!\")\n",
        "      } else {\n",
        "        val isSuccess = mssparkutils.fs.mkdirs(path)\n",
        "        result += (path -> s\"Created successfully? = ${isSuccess.toString}\")\n",
        "      }\n",
        "    })\n",
        "    result\n",
        "  }\n",
        "\n",
        " val ExperimentFolder: String = \"/experiment\"\n",
        " val DataZoneFolders: List[String] = List(\"stage\", \"refined\", \"certified\")\n",
        "\n",
        "  def createUserFolders(userName: String): mutable.SortedMap[String, String] = {\n",
        "    val basePath = ExperimentFolder + \"/\" + userName.toLowerCase + \"/\"\n",
        "    val userExpFolders = DataZoneFolders.map(f => basePath + f)\n",
        "\n",
        "    val results = createFolders(userExpFolders)\n",
        "\n",
        "    for ((folder, result) <- results) {\n",
        "      val msg = s\"Folder: $folder, Result: $result\"\n",
        "      //logInfo(msg)\n",
        "      println(msg) //output to notebook cell\n",
        "    }\n",
        "\n",
        "    results\n",
        "  }"
      ],
      "outputs": [],
      "execution_count": 7,
      "metadata": {
        "jupyter": {
          "source_hidden": false,
          "outputs_hidden": false
        },
        "nteract": {
          "transient": {
            "deleting": false
          }
        }
      }
    },
    {
      "cell_type": "code",
      "source": [
        "//userName will be converted to lowercase as a standard convention AdminUtils.\n",
        "val userSetupResults = createUserFolders(userName = paramUserName)"
      ],
      "outputs": [],
      "execution_count": 8,
      "metadata": {
        "jupyter": {
          "source_hidden": false,
          "outputs_hidden": false
        },
        "nteract": {
          "transient": {
            "deleting": false
          }
        }
      }
    },
    {
      "cell_type": "code",
      "source": [
        "val isSuccess = mssparkutils.fs.mkdirs(\"/experiment/notebookuser\")"
      ],
      "outputs": [],
      "execution_count": 1,
      "metadata": {
        "jupyter": {
          "source_hidden": false,
          "outputs_hidden": false
        },
        "nteract": {
          "transient": {
            "deleting": false
          }
        }
      }
    },
    {
      "cell_type": "markdown",
      "source": [
        "## Create data zones"
      ],
      "metadata": {
        "nteract": {
          "transient": {
            "deleting": false
          }
        }
      }
    },
    {
      "cell_type": "code",
      "source": [
        "//basePath will be converted to lowercase as a standard convention\n",
        "val userZoneSetupResults = AdminUtils.createDataZones(basePath = paramBasePath)"
      ],
      "outputs": [],
      "execution_count": 9,
      "metadata": {
        "jupyter": {
          "source_hidden": false,
          "outputs_hidden": false
        },
        "nteract": {
          "transient": {
            "deleting": false
          }
        }
      }
    },
    {
      "cell_type": "code",
      "source": [
        "println(\"Total provisioned executors: \" + SynapseSpark.activeExecutorCount)\n",
        "println()\n",
        "println(\"Total provisioned cores: \" + SynapseSpark.totalClusterExecutorCores)"
      ],
      "outputs": [],
      "execution_count": 10,
      "metadata": {
        "jupyter": {
          "source_hidden": false,
          "outputs_hidden": false
        },
        "nteract": {
          "transient": {
            "deleting": false
          }
        }
      }
    },
    {
      "cell_type": "code",
      "source": [
        "val notebookFinalOutput = rootSetupResults.mkString(\"\\n\").concat(\"\\n\\n\")\n",
        "                          .concat(userSetupResults.mkString(\"\\n\")).concat(\"\\n\\n\")\n",
        "                          .concat(userZoneSetupResults.mkString(\"\\n\"))\n",
        "\n",
        "mssparkutils.notebook.exit(notebookFinalOutput)"
      ],
      "outputs": [],
      "execution_count": 10,
      "metadata": {
        "jupyter": {
          "source_hidden": false,
          "outputs_hidden": false
        },
        "nteract": {
          "transient": {
            "deleting": false
          }
        }
      }
    }
  ],
  "metadata": {
    "kernelspec": {
      "name": "synapse_spark",
      "display_name": "scala"
    },
    "language_info": {
      "name": "scala"
    },
    "save_output": true,
    "synapse_widget": {
      "version": "0.1",
      "state": {}
    }
  },
  "nbformat": 4,
  "nbformat_minor": 2
}