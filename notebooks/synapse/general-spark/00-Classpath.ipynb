{
  "nbformat": 4,
  "nbformat_minor": 2,
  "cells": [
    {
      "cell_type": "code",
      "execution_count": 1,
      "outputs": [],
      "metadata": {
        "jupyter": {
          "source_hidden": false,
          "outputs_hidden": false
        },
        "nteract": {
          "transient": {
            "deleting": false
          }
        }
      },
      "source": [
        "%%configure -f\n",
        "{\n",
        "    // You can get a list of valid parameters to config the session from https://github.com/cloudera/livy#request-body.\n",
        "    \"driverMemory\": \"4g\", // Recommended values: [\"28g\", \"56g\", \"112g\", \"224g\", \"400g\", \"472g\"]\n",
        "    \"driverCores\": 2, // Recommended values: [4, 8, 16, 32, 64, 80]\n",
        "    \"executorMemory\": \"4g\",\n",
        "    \"executorCores\": 2,\n",
        "    \"numExecutors\": 1,\n",
        "    \"conf\":\n",
        "    {\n",
        "        // Example of standard spark property, to find more available properties please visit: https://spark.apache.org/docs/latest/configuration.html#application-properties.\n",
        "        \"spark.driver.maxResultSize\": \"10g\",\n",
        "        // Example of customized property, you can specify count of lines that Spark SQL returns by configuring \"livy.rsc.sql.num-rows\".\n",
        "        \"livy.rsc.sql.num-rows\": \"3000\"\n",
        "    }\n",
        "}"
      ]
    },
    {
      "cell_type": "code",
      "execution_count": 2,
      "outputs": [],
      "metadata": {
        "jupyter": {
          "source_hidden": false,
          "outputs_hidden": false
        },
        "nteract": {
          "transient": {
            "deleting": false
          }
        }
      },
      "source": [
        "import com.tccc.dna.synapse.spark.Classpath\n",
        "{\n",
        "    println(s\"Total system classpath entries: ${Classpath.getAllDependencyCount}\")\n",
        "}"
      ]
    },
    {
      "cell_type": "code",
      "execution_count": 3,
      "outputs": [],
      "metadata": {
        "jupyter": {
          "source_hidden": false,
          "outputs_hidden": false
        },
        "nteract": {
          "transient": {
            "deleting": false
          }
        }
      },
      "source": [
        "{\n",
        "    println(s\"\\nTotal logging dependencies: ${Classpath.getLogDependencyCount} \\n\")\n",
        "    Classpath.getLogDependencies.foreach(println)\n",
        "}"
      ]
    },
    {
      "cell_type": "code",
      "execution_count": 4,
      "outputs": [],
      "metadata": {
        "jupyter": {
          "source_hidden": false,
          "outputs_hidden": false
        },
        "nteract": {
          "transient": {
            "deleting": false
          }
        }
      },
      "source": [
        "{\n",
        "   println(s\"\\nTotal Syanpse dependencies: ${Classpath.getSynapseDependencyCount} \\n\")\n",
        "   Classpath.getSynapseDependencies.foreach(println)\n",
        "}"
      ]
    },
    {
      "cell_type": "code",
      "execution_count": 5,
      "outputs": [],
      "metadata": {
        "jupyter": {
          "source_hidden": false,
          "outputs_hidden": false
        },
        "nteract": {
          "transient": {
            "deleting": false
          }
        }
      },
      "source": [
        "{\n",
        "    println(s\"\\nTotal Azure dependencies: ${Classpath.getAzureDependencyCount} \\n\")\n",
        "    Classpath.getAzureDependencies.foreach(println)\n",
        "}"
      ]
    },
    {
      "cell_type": "code",
      "execution_count": 6,
      "outputs": [],
      "metadata": {
        "jupyter": {
          "source_hidden": false,
          "outputs_hidden": false
        },
        "nteract": {
          "transient": {
            "deleting": false
          }
        }
      },
      "source": [
        "{\n",
        "    println(s\"\\nTotal Microsoft dependencies: ${Classpath.getMicrosoftDependencyCount} \\n\")\n",
        "    Classpath.getMicrosoftDependencies.foreach(println)\n",
        "}"
      ]
    },
    {
      "cell_type": "code",
      "execution_count": 7,
      "outputs": [],
      "metadata": {
        "jupyter": {
          "source_hidden": false,
          "outputs_hidden": false
        },
        "nteract": {
          "transient": {
            "deleting": false
          }
        }
      },
      "source": [
        "{\n",
        "    println(s\"\\nTotal connector dependencies: ${Classpath.getAzureConnectorDependencyCount} \\n\")\n",
        "    Classpath.getAzureConnectorDependencies.foreach(println)\n",
        "}"
      ]
    },
    {
      "cell_type": "code",
      "execution_count": 8,
      "outputs": [],
      "metadata": {
        "jupyter": {
          "source_hidden": false,
          "outputs_hidden": false
        },
        "nteract": {
          "transient": {
            "deleting": false
          }
        }
      },
      "source": [
        "{\n",
        "    println(s\"\\nTotal additional (added my Azure to open source Apache Spark) dependencies: ${Classpath.getNonOpenSourceSparkDependencyCount} \\n\")\n",
        "    Classpath.getNonOpenSourceSparkDependencies.foreach(println)\n",
        "}"
      ]
    },
    {
      "cell_type": "code",
      "execution_count": 9,
      "outputs": [],
      "metadata": {
        "jupyter": {
          "source_hidden": false,
          "outputs_hidden": false
        },
        "nteract": {
          "transient": {
            "deleting": false
          }
        }
      },
      "source": [
        "{\n",
        "    println(s\"\\nTotal Coke dependencies: ${Classpath.getCokeTCCCDependencyCount} \\n\")\n",
        "    Classpath.getCokeTCCCDependencies.foreach(println)\n",
        "}"
      ]
    },
    {
      "cell_type": "code",
      "execution_count": 3,
      "outputs": [],
      "metadata": {
        "jupyter": {
          "source_hidden": false,
          "outputs_hidden": false
        },
        "nteract": {
          "transient": {
            "deleting": false
          }
        }
      },
      "source": [
        "{\n",
        "    Classpath.getAllDependencies.foreach(println)\n",
        "}"
      ]
    }
  ],
  "metadata": {
    "save_output": true,
    "kernelspec": {
      "name": "synapse_pyspark",
      "display_name": "Synapse PySpark"
    },
    "language_info": {
      "name": "scala"
    }
  }
}