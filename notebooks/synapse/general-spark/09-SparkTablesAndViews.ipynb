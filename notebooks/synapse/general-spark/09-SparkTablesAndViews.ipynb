{
  "nbformat": 4,
  "nbformat_minor": 2,
  "cells": [
    {
      "cell_type": "code",
      "execution_count": null,
      "outputs": [],
      "metadata": {},
      "source": [
        "Additional Reading\n",
        "\n",
        "- [Global & Temp Tables/Views](https://medium.com/@subashsivaji/types-of-apache-spark-tables-and-views-f468e2e53af2)"
      ]
    },
    {
      "cell_type": "markdown",
      "metadata": {
        "nteract": {
          "transient": {
            "deleting": false
          }
        }
      },
      "source": [
        "If you want to have a temporary view that is shared among all sessions and keep alive until the Spark application terminates, you can create a global temporary view"
      ]
    },
    {
      "cell_type": "code",
      "execution_count": null,
      "outputs": [],
      "metadata": {
        "jupyter": {
          "source_hidden": false,
          "outputs_hidden": false
        },
        "nteract": {
          "transient": {
            "deleting": false
          }
        }
      },
      "source": [
        "familyDf.createOrReplaceGlobalTempView(\"family_tbl_global\")\n",
        "\n",
        "println(\"Visible in 'defaultSession' scope\")\n",
        "defaultSession.sql(\"show tables like 'family*'\").show()\n",
        "\n",
        "println(\"NOT visible in 'defaultSession' scope\")\n",
        "session2.sql(\"show tables like 'family*'\").show()"
      ]
    }
  ],
  "metadata": {
    "description": "Global Managed Tables\nGlobal Unmanaged Tables (External)\nLocal Table aka Temp Table aka Temp  Views\nGlobal Table aka Global View\nGlobal Permanent View",
    "save_output": true,
    "kernelspec": {
      "name": "synapse_pyspark",
      "display_name": "python"
    },
    "language_info": {
      "name": "python"
    }
  }
}