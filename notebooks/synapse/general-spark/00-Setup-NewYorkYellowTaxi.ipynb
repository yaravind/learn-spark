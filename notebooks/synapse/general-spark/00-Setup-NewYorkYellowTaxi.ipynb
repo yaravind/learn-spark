{
  "cells": [
    {
      "cell_type": "code",
      "source": [
        "//import org.apache.commons.lang3.time.{DateFormatUtils, FastDateFormat}\n",
        "//import org.apache.spark.sql.functions._\n",
        "import org.apache.spark.sql._\n",
        "//import org.apache.spark.sql.types._\n",
        "import org.apache.log4j._\n",
        "import com.tccc.dna.synapse.dataset.NewYorkTaxiYellow\n",
        "import com.tccc.dna.synapse.{StorageFormat, AzStorage}\n",
        "import com.tccc.dna.synapse.StorageFormat._\n",
        "import com.tccc.dna.synapse.Logs._\n",
        "\n",
        "import com.tccc.dna.synapse.spark.{SynapseSpark, DataFrames, Partitions, Writers, Catalogs}\n",
        "val notebookName = SynapseSpark.getCurrentNotebookName\n",
        "sc.setLogLevel(\"DEBUG\")\n",
        "val log = org.apache.log4j.LogManager.getLogger(s\"com.aravind.notebook.$notebookName\")\n",
        "log.setLevel(Level.DEBUG)"
      ],
      "outputs": [],
      "execution_count": 1,
      "metadata": {}
    },
    {
      "cell_type": "code",
      "source": [
        "val tcccStorageAcct = \"xxx\"\n",
        "val tcccContainer = \"tlfs\"\n",
        "\n",
        "val yellowTaxiCsvPath = \"/poc/csv/nyc_yellow_taxi_trips\"\n",
        "val yellowTaxiParquetPath = \"/poc/parquet/nyc_yellow_taxi_trips\"\n",
        "val yellowTaxiDeltaPath = \"/poc/delta/nyc_yellow_taxi_trips\"\n",
        "\n",
        "if(AzStorage.ifFileExists(yellowTaxiCsvPath)) logDebug(log, s\"$yellowTaxiCsvPath exists.\")\n",
        "if(AzStorage.ifFileExists(yellowTaxiParquetPath)) logDebug(log, s\"$yellowTaxiParquetPath exists.\")\n",
        "if(AzStorage.ifFileExists(yellowTaxiDeltaPath)) logDebug(log, s\"$yellowTaxiDeltaPath exists.\")"
      ],
      "outputs": [],
      "execution_count": 2,
      "metadata": {
        "jupyter": {
          "source_hidden": false,
          "outputs_hidden": false
        },
        "nteract": {
          "transient": {
            "deleting": false
          }
        }
      }
    },
    {
      "cell_type": "code",
      "source": [
        "val schemaName = \"silver\"\n",
        "\n",
        "//mt_ prefix = managed table\n",
        "val yellowTaxiCsvBackedTable = \"mt_nyc_yellow_taxi_trips_csv\"\n",
        "val yellowTaxiParquetBackedTable = \"mt_nyc_yellow_taxi_trips_parquet\"\n",
        "val yellowTaxiDeltaBackedTable = \"mt_nyc_yellow_taxi_trips_delta\"\n",
        "\n",
        "val partitionCols = Array(\"puYear\", \"puMonth\")\n",
        "\n",
        "//Create Parquet backed table\n",
        "if(!Catalogs.isTableExists(schemaName, yellowTaxiParquetBackedTable)) {\n",
        "    val df = DataFrames.getDataFrame(tcccStorageAcct, tcccContainer, yellowTaxiCsvPath, StorageFormat.Csv, Map(\"header\"->\"true\")).cache\n",
        "\n",
        "    //Issues CETAS. Physical plan command: CreateDataSourceTableAsSelectCommand\n",
        "    Writers.initialLoad(df, schemaName, yellowTaxiParquetBackedTable, StorageFormat.Parquet, SaveMode.Overwrite, \n",
        "        partitionColNames = partitionCols, dbComment = \"Silver Zone\", \n",
        "        otherWriterOpts = Map(\"header\"->\"true\"))\n",
        "    \n",
        "    val info = Catalogs.getTableInfo(schemaName, yellowTaxiParquetBackedTable)\n",
        "    logDebug(log, s\"${info.toString}\")\n",
        "}\n",
        "\n",
        "//Create Delta backed table\n",
        "if(!Catalogs.isTableExists(schemaName, yellowTaxiDeltaBackedTable)) {\n",
        "    val df = DataFrames.getDataFrame(tcccStorageAcct, tcccContainer, yellowTaxiCsvPath, StorageFormat.Csv, Map(\"header\"->\"true\"))\n",
        "    \n",
        "    //Issues CETAS. Physical plan command: CreateDataSourceTableAsSelectCommand\n",
        "    Writers.initialLoad(df, schemaName, yellowTaxiDeltaBackedTable, StorageFormat.Delta, SaveMode.Overwrite, \n",
        "        partitionColNames = partitionCols, dbComment = \"Silver Zone\")\n",
        "    \n",
        "    val info = Catalogs.getTableInfo(schemaName, yellowTaxiDeltaBackedTable)\n",
        "    logDebug(log, s\"${info.toString}\")\n",
        "}"
      ],
      "outputs": [],
      "execution_count": 3,
      "metadata": {
        "jupyter": {
          "source_hidden": false,
          "outputs_hidden": false
        },
        "nteract": {
          "transient": {
            "deleting": false
          }
        }
      }
    }
  ],
  "metadata": {
    "kernelspec": {
      "name": "synapse_spark",
      "display_name": "scala"
    },
    "language_info": {
      "name": "scala"
    },
    "save_output": true,
    "synapse_widget": {
      "version": "0.1",
      "state": {}
    }
  },
  "nbformat": 4,
  "nbformat_minor": 2
}