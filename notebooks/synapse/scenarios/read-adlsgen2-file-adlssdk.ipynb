{
  "cells": [
    {
      "cell_type": "markdown",
      "source": [
        "## Use ADLS Gen 2 API to read file from Storage Account"
      ],
      "metadata": {
        "nteract": {
          "transient": {
            "deleting": false
          }
        }
      }
    },
    {
      "cell_type": "code",
      "source": [
        "import java.nio.charset.StandardCharsets\n",
        "\n",
        "import com.azure.storage.blob.{BlobClientBuilder, BlobServiceClientBuilder}\n",
        "\n",
        "object ReadAzureBlobFile {\n",
        "    \n",
        "  def main(args: Array[String]) {\n",
        "      \n",
        "    val endpoint = \"https://xxx.dfs.core.windows.net/\" //Example: https://myaccount.blob.core.windows.net/\n",
        "    val containerName = \"metadata\"\n",
        "    val blobName = \"/content/control_files/dam/AssetCreated.json\"\n",
        "\n",
        "    // Use Managed Identity credential\n",
        "    val credential = new DefaultAzureCredentialBuilder().build()\n",
        "\n",
        "    val blobServiceClient = new BlobServiceClientBuilder()\n",
        "        .endpoint(endpoint)\n",
        "        .credential(credential)\n",
        "        .buildClient()\n",
        "\n",
        "    val blobContainerClient = blobServiceClient.getBlobContainerClient(containerName)\n",
        "    val blobClient = blobContainerClient.getBlobClient(blobName)\n",
        "\n",
        "    // Read blob content as line-separated text\n",
        "    val blobContentLines = new String(blobClient.downloadContent().toBytes, StandardCharsets.UTF_8).split(\"\\n\")\n",
        "\n",
        "    // Print blob content line by line\n",
        "    blobContentLines.foreach(println)\n",
        "  }\n",
        "}"
      ],
      "outputs": [],
      "execution_count": null,
      "metadata": {
        "jupyter": {
          "source_hidden": false,
          "outputs_hidden": false
        },
        "nteract": {
          "transient": {
            "deleting": false
          }
        }
      }
    },
    {
      "cell_type": "markdown",
      "source": [
        "## Use Blob API to read file from Storage Account"
      ],
      "metadata": {
        "nteract": {
          "transient": {
            "deleting": false
          }
        }
      }
    },
    {
      "cell_type": "markdown",
      "source": [
        "### Use Primary/Secondary Access Key"
      ],
      "metadata": {
        "nteract": {
          "transient": {
            "deleting": false
          }
        }
      }
    },
    {
      "cell_type": "code",
      "source": [
        "import com.microsoft.azure.storage.CloudStorageAccount\n",
        "import com.microsoft.azure.storage.StorageCredentials\n",
        "import com.microsoft.azure.storage.blob.CloudBlobClient\n",
        "import com.microsoft.azure.storage.blob.CloudBlobContainer\n",
        "import com.microsoft.azure.storage.blob.CloudBlockBlob\n",
        "\n",
        "val storageAcct = \"xxx\"\n",
        "val containerName = \"metadata\"\n",
        "val filePath = \"/content/control_files/dam/AssetCreated.json\""
      ],
      "outputs": [],
      "execution_count": 14,
      "metadata": {
        "jupyter": {
          "source_hidden": false,
          "outputs_hidden": false
        },
        "nteract": {
          "transient": {
            "deleting": false
          }
        }
      }
    },
    {
      "cell_type": "code",
      "source": [
        "//abfss://metadata@xxx.dfs.core.windows.net/content/control_files/dam/AssetCreated.json\n",
        "//DefaultEndpointsProtocol=https;AccountName=xxx;AccountKey=xxx;EndpointSuffix=core.windows.net\n",
        "{\n",
        "val primaryStorageAcctAccessKey = mssparkutils.credentials.getSecret(\"key-vault\", \"primaryStorageAcctAccessKey\")\n",
        "val account = CloudStorageAccount.parse(s\"DefaultEndpointsProtocol=https;AccountName=$storageAcct;AccountKey=$primaryStorageAcctAccessKey;EndpointSuffix=core.windows.net\")\n",
        "\n",
        "val blobClient = account.createCloudBlobClient()\n",
        "val container = blobClient.getContainerReference(containerName)\n",
        "val blob = container.getBlockBlobReference(filePath)\n",
        "val text = blob.downloadText()\n",
        "print(text)\n",
        "}"
      ],
      "outputs": [],
      "execution_count": null,
      "metadata": {
        "jupyter": {
          "source_hidden": false,
          "outputs_hidden": false
        },
        "nteract": {
          "transient": {
            "deleting": false
          }
        }
      }
    },
    {
      "cell_type": "markdown",
      "source": [
        "### Use SAS key"
      ],
      "metadata": {
        "nteract": {
          "transient": {
            "deleting": false
          }
        }
      }
    },
    {
      "cell_type": "code",
      "source": [
        "{\n",
        "    var account = CloudStorageAccount.parse(s\"BlobEndpoint=https://$storageAcct.blob.core.windows.net/;QueueEndpoint=https://$storageAcct.queue.core.windows.net/;FileEndpoint=https://$storageAcct.file.core.windows.net/;TableEndpoint=https://$storageAcct.table.core.windows.net/;SharedAccessSignature=<>\")\n",
        "    \n",
        "    val blobClient = account.createCloudBlobClient()\n",
        "    val container = blobClient.getContainerReference(containerName)\n",
        "    val blob = container.getBlockBlobReference(filePath)\n",
        "    var text = blob.downloadText()\n",
        "    print(text)\n",
        "}"
      ],
      "outputs": [],
      "execution_count": 16,
      "metadata": {
        "jupyter": {
          "source_hidden": false,
          "outputs_hidden": false
        },
        "nteract": {
          "transient": {
            "deleting": false
          }
        }
      }
    }
  ],
  "metadata": {
    "kernelspec": {
      "name": "synapse_spark",
      "display_name": "scala"
    },
    "language_info": {
      "name": "scala"
    },
    "save_output": true,
    "synapse_widget": {
      "version": "0.1",
      "state": {}
    }
  },
  "nbformat": 4,
  "nbformat_minor": 2
}